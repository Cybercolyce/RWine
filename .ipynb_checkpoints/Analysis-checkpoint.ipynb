{
 "cells": [
  {
   "cell_type": "markdown",
   "id": "foreign-moses",
   "metadata": {},
   "source": [
    "<center><h1>一个红酒品质分析的实例</h1></center>"
   ]
  },
  {
   "cell_type": "markdown",
   "id": "jewish-separation",
   "metadata": {},
   "source": [
    "## 数据的读取与初步分析\n",
    "在这一步读取`winequality-red.csv`的数据，并对各个指标进行初步的探索。\n"
   ]
  },
  {
   "cell_type": "code",
   "execution_count": 1,
   "id": "young-adolescent",
   "metadata": {},
   "outputs": [],
   "source": [
    "import numpy as np\n",
    "import pandas as pd\n",
    "import seaborn as sns\n",
    "from sklearn import svm\n",
    "from sklearn import model_selection\n",
    "import matplotlib.pyplot as plt\n",
    "import warnings\n",
    "warnings.simplefilter(action=\"ignore\", category=FutureWarning)"
   ]
  },
  {
   "cell_type": "markdown",
   "id": "varied-decade",
   "metadata": {},
   "source": [
    "导入库后，进行数据的读取。"
   ]
  },
  {
   "cell_type": "code",
   "execution_count": 2,
   "id": "editorial-analysis",
   "metadata": {},
   "outputs": [],
   "source": [
    "data=pd.read_csv('winequality-red.csv')"
   ]
  },
  {
   "cell_type": "code",
   "execution_count": 3,
   "id": "alien-worthy",
   "metadata": {},
   "outputs": [
    {
     "data": {
      "text/html": [
       "<div>\n",
       "<style scoped>\n",
       "    .dataframe tbody tr th:only-of-type {\n",
       "        vertical-align: middle;\n",
       "    }\n",
       "\n",
       "    .dataframe tbody tr th {\n",
       "        vertical-align: top;\n",
       "    }\n",
       "\n",
       "    .dataframe thead th {\n",
       "        text-align: right;\n",
       "    }\n",
       "</style>\n",
       "<table border=\"1\" class=\"dataframe\">\n",
       "  <thead>\n",
       "    <tr style=\"text-align: right;\">\n",
       "      <th></th>\n",
       "      <th>fixed acidity</th>\n",
       "      <th>volatile acidity</th>\n",
       "      <th>citric acid</th>\n",
       "      <th>residual sugar</th>\n",
       "      <th>chlorides</th>\n",
       "      <th>free sulfur dioxide</th>\n",
       "      <th>total sulfur dioxide</th>\n",
       "      <th>density</th>\n",
       "      <th>pH</th>\n",
       "      <th>sulphates</th>\n",
       "      <th>alcohol</th>\n",
       "      <th>quality</th>\n",
       "    </tr>\n",
       "  </thead>\n",
       "  <tbody>\n",
       "    <tr>\n",
       "      <th>0</th>\n",
       "      <td>7.4</td>\n",
       "      <td>0.70</td>\n",
       "      <td>0.00</td>\n",
       "      <td>1.9</td>\n",
       "      <td>0.076</td>\n",
       "      <td>11.0</td>\n",
       "      <td>34.0</td>\n",
       "      <td>0.9978</td>\n",
       "      <td>3.51</td>\n",
       "      <td>0.56</td>\n",
       "      <td>9.4</td>\n",
       "      <td>5</td>\n",
       "    </tr>\n",
       "    <tr>\n",
       "      <th>1</th>\n",
       "      <td>7.8</td>\n",
       "      <td>0.88</td>\n",
       "      <td>0.00</td>\n",
       "      <td>2.6</td>\n",
       "      <td>0.098</td>\n",
       "      <td>25.0</td>\n",
       "      <td>67.0</td>\n",
       "      <td>0.9968</td>\n",
       "      <td>3.20</td>\n",
       "      <td>0.68</td>\n",
       "      <td>9.8</td>\n",
       "      <td>5</td>\n",
       "    </tr>\n",
       "    <tr>\n",
       "      <th>2</th>\n",
       "      <td>7.8</td>\n",
       "      <td>0.76</td>\n",
       "      <td>0.04</td>\n",
       "      <td>2.3</td>\n",
       "      <td>0.092</td>\n",
       "      <td>15.0</td>\n",
       "      <td>54.0</td>\n",
       "      <td>0.9970</td>\n",
       "      <td>3.26</td>\n",
       "      <td>0.65</td>\n",
       "      <td>9.8</td>\n",
       "      <td>5</td>\n",
       "    </tr>\n",
       "    <tr>\n",
       "      <th>3</th>\n",
       "      <td>11.2</td>\n",
       "      <td>0.28</td>\n",
       "      <td>0.56</td>\n",
       "      <td>1.9</td>\n",
       "      <td>0.075</td>\n",
       "      <td>17.0</td>\n",
       "      <td>60.0</td>\n",
       "      <td>0.9980</td>\n",
       "      <td>3.16</td>\n",
       "      <td>0.58</td>\n",
       "      <td>9.8</td>\n",
       "      <td>6</td>\n",
       "    </tr>\n",
       "    <tr>\n",
       "      <th>4</th>\n",
       "      <td>7.4</td>\n",
       "      <td>0.70</td>\n",
       "      <td>0.00</td>\n",
       "      <td>1.9</td>\n",
       "      <td>0.076</td>\n",
       "      <td>11.0</td>\n",
       "      <td>34.0</td>\n",
       "      <td>0.9978</td>\n",
       "      <td>3.51</td>\n",
       "      <td>0.56</td>\n",
       "      <td>9.4</td>\n",
       "      <td>5</td>\n",
       "    </tr>\n",
       "  </tbody>\n",
       "</table>\n",
       "</div>"
      ],
      "text/plain": [
       "   fixed acidity  volatile acidity  citric acid  residual sugar  chlorides  \\\n",
       "0            7.4              0.70         0.00             1.9      0.076   \n",
       "1            7.8              0.88         0.00             2.6      0.098   \n",
       "2            7.8              0.76         0.04             2.3      0.092   \n",
       "3           11.2              0.28         0.56             1.9      0.075   \n",
       "4            7.4              0.70         0.00             1.9      0.076   \n",
       "\n",
       "   free sulfur dioxide  total sulfur dioxide  density    pH  sulphates  \\\n",
       "0                 11.0                  34.0   0.9978  3.51       0.56   \n",
       "1                 25.0                  67.0   0.9968  3.20       0.68   \n",
       "2                 15.0                  54.0   0.9970  3.26       0.65   \n",
       "3                 17.0                  60.0   0.9980  3.16       0.58   \n",
       "4                 11.0                  34.0   0.9978  3.51       0.56   \n",
       "\n",
       "   alcohol  quality  \n",
       "0      9.4        5  \n",
       "1      9.8        5  \n",
       "2      9.8        5  \n",
       "3      9.8        6  \n",
       "4      9.4        5  "
      ]
     },
     "execution_count": 3,
     "metadata": {},
     "output_type": "execute_result"
    }
   ],
   "source": [
    "data.head()"
   ]
  },
  {
   "cell_type": "code",
   "execution_count": 4,
   "id": "going-variety",
   "metadata": {},
   "outputs": [
    {
     "name": "stdout",
     "output_type": "stream",
     "text": [
      "<class 'pandas.core.frame.DataFrame'>\n",
      "RangeIndex: 1599 entries, 0 to 1598\n",
      "Data columns (total 12 columns):\n",
      " #   Column                Non-Null Count  Dtype  \n",
      "---  ------                --------------  -----  \n",
      " 0   fixed acidity         1599 non-null   float64\n",
      " 1   volatile acidity      1599 non-null   float64\n",
      " 2   citric acid           1599 non-null   float64\n",
      " 3   residual sugar        1599 non-null   float64\n",
      " 4   chlorides             1599 non-null   float64\n",
      " 5   free sulfur dioxide   1599 non-null   float64\n",
      " 6   total sulfur dioxide  1599 non-null   float64\n",
      " 7   density               1599 non-null   float64\n",
      " 8   pH                    1599 non-null   float64\n",
      " 9   sulphates             1599 non-null   float64\n",
      " 10  alcohol               1599 non-null   float64\n",
      " 11  quality               1599 non-null   int64  \n",
      "dtypes: float64(11), int64(1)\n",
      "memory usage: 150.0 KB\n"
     ]
    }
   ],
   "source": [
    "data.info()"
   ]
  },
  {
   "cell_type": "markdown",
   "id": "veterinary-logic",
   "metadata": {},
   "source": [
    "可以看到我们一共有11个指标，一个待预测的结果。\n",
    "具体含义在此不探究，只关心指标与结果的关系，先来查看各个指标与因变量的关系。\n",
    "在`data.ifo()`中我们可以查看到所有的指标都是浮点型数据，不存在特殊类型如字符、布尔型的数据，故我们选用箱型图进行初步的关系探究,但在此之前先查看一下待预测的结果分布：\n"
   ]
  },
  {
   "cell_type": "code",
   "execution_count": 5,
   "id": "seventh-colorado",
   "metadata": {},
   "outputs": [
    {
     "data": {
      "text/plain": [
       "<AxesSubplot:xlabel='quality', ylabel='count'>"
      ]
     },
     "execution_count": 5,
     "metadata": {},
     "output_type": "execute_result"
    },
    {
     "data": {
      "image/png": "[encoded data removed]",
      "text/plain": [
       "<Figure size 432x288 with 1 Axes>"
      ]
     },
     "metadata": {
      "needs_background": "light"
     },
     "output_type": "display_data"
    }
   ],
   "source": [
    "sns.countplot(x='quality',data=data)#探究结果的分布情况"
   ]
  },
  {
   "cell_type": "markdown",
   "id": "ed8efe37",
   "metadata": {},
   "source": [
    "现在进行指标与分类结果的指标的关系探究："
   ]
  },
  {
   "cell_type": "code",
   "execution_count": 6,
   "id": "solved-smooth",
   "metadata": {},
   "outputs": [
    {
     "data": {
      "text/plain": [
       "<AxesSubplot:xlabel='quality', ylabel='fixed acidity'>"
      ]
     },
     "execution_count": 6,
     "metadata": {},
     "output_type": "execute_result"
    },
    {
     "data": {
      "image/png": "[encoded data removed]",
      "text/plain": [
       "<Figure size 432x288 with 1 Axes>"
      ]
     },
     "metadata": {
      "needs_background": "light"
     },
     "output_type": "display_data"
    }
   ],
   "source": [
    "#探究 fixed acidity与指标的关系\n",
    "sns.boxplot('quality', 'fixed acidity', data = data)"
   ]
  },
  {
   "cell_type": "markdown",
   "id": "generic-gothic",
   "metadata": {},
   "source": [
    "这个指标的分布成一个上升的趋势，但在品质8的时候出现了回落，同时在品质5的地方出现比较多的异常值，后续需要注意该段的处理。"
   ]
  },
  {
   "cell_type": "code",
   "execution_count": 7,
   "id": "japanese-contrary",
   "metadata": {},
   "outputs": [
    {
     "data": {
      "text/plain": [
       "<AxesSubplot:xlabel='quality', ylabel='volatile acidity'>"
      ]
     },
     "execution_count": 7,
     "metadata": {},
     "output_type": "execute_result"
    },
    {
     "data": {
      "image/png": "[encoded data removed]",
      "text/plain": [
       "<Figure size 432x288 with 1 Axes>"
      ]
     },
     "metadata": {
      "needs_background": "light"
     },
     "output_type": "display_data"
    }
   ],
   "source": [
    "#volatile acidity\n",
    "sns.boxplot('quality', 'volatile acidity', data = data)"
   ]
  },
  {
   "cell_type": "markdown",
   "id": "duplicate-neighbor",
   "metadata": {},
   "source": [
    "一个非常经典的递减型！有点指数衰减的样子，同样在品质5的分类中出现了较多的异常值，需要注意。"
   ]
  },
  {
   "cell_type": "code",
   "execution_count": 8,
   "id": "accurate-austin",
   "metadata": {},
   "outputs": [
    {
     "data": {
      "text/plain": [
       "<AxesSubplot:xlabel='quality', ylabel='citric acid'>"
      ]
     },
     "execution_count": 8,
     "metadata": {},
     "output_type": "execute_result"
    },
    {
     "data": {
      "image/png": "[encoded data removed]",
      "text/plain": [
       "<Figure size 432x288 with 1 Axes>"
      ]
     },
     "metadata": {
      "needs_background": "light"
     },
     "output_type": "display_data"
    }
   ],
   "source": [
    "#citric acid\n",
    "sns.boxplot('quality', 'citric acid', data = data)"
   ]
  },
  {
   "cell_type": "markdown",
   "id": "expressed-tactics",
   "metadata": {},
   "source": [
    "递增型，有点指数递增的味道了，这个时候的数据都比较理想。"
   ]
  },
  {
   "cell_type": "code",
   "execution_count": 9,
   "id": "executed-adaptation",
   "metadata": {},
   "outputs": [
    {
     "data": {
      "text/plain": [
       "<AxesSubplot:xlabel='quality', ylabel='residual sugar'>"
      ]
     },
     "execution_count": 9,
     "metadata": {},
     "output_type": "execute_result"
    },
    {
     "data": {
      "image/png": "[encoded data removed]",
      "text/plain": [
       "<Figure size 432x288 with 1 Axes>"
      ]
     },
     "metadata": {
      "needs_background": "light"
     },
     "output_type": "display_data"
    }
   ],
   "source": [
    "#residual sugar\n",
    "sns.boxplot('quality','residual sugar',data=data)"
   ]
  },
  {
   "cell_type": "markdown",
   "id": "respiratory-vision",
   "metadata": {},
   "source": [
    "这个应该是最难看出特征的数据了，所以这一块要重点处理，考虑到比较多的异常值以及过窄的箱体，我打算使用Z-score进行标准化再来检验下效果如何。"
   ]
  },
  {
   "cell_type": "code",
   "execution_count": 10,
   "id": "combined-winter",
   "metadata": {},
   "outputs": [
    {
     "data": {
      "text/plain": [
       "<AxesSubplot:xlabel='quality', ylabel='chlorides'>"
      ]
     },
     "execution_count": 10,
     "metadata": {},
     "output_type": "execute_result"
    },
    {
     "data": {
      "image/png": "[encoded data removed]",
      "text/plain": [
       "<Figure size 432x288 with 1 Axes>"
      ]
     },
     "metadata": {
      "needs_background": "light"
     },
     "output_type": "display_data"
    }
   ],
   "source": [
    "#chlorides\n",
    "sns.boxplot('quality','chlorides',data=data)"
   ]
  },
  {
   "cell_type": "markdown",
   "id": "magnetic-period",
   "metadata": {},
   "source": [
    "依然同上情况，标准化的选择要多试验。"
   ]
  },
  {
   "cell_type": "code",
   "execution_count": 11,
   "id": "alive-address",
   "metadata": {},
   "outputs": [
    {
     "data": {
      "text/plain": [
       "<AxesSubplot:xlabel='quality', ylabel='free sulfur dioxide'>"
      ]
     },
     "execution_count": 11,
     "metadata": {},
     "output_type": "execute_result"
    },
    {
     "data": {
      "image/png": "[encoded data removed]",
      "text/plain": [
       "<Figure size 432x288 with 1 Axes>"
      ]
     },
     "metadata": {
      "needs_background": "light"
     },
     "output_type": "display_data"
    }
   ],
   "source": [
    "#free sulfur dioxide\n",
    "sns.boxplot('quality','free sulfur dioxide',data=data)"
   ]
  },
  {
   "cell_type": "markdown",
   "id": "placed-floor",
   "metadata": {},
   "source": [
    "先增后减，类似正态分布，暂时没有想法。"
   ]
  },
  {
   "cell_type": "code",
   "execution_count": 12,
   "id": "theoretical-enlargement",
   "metadata": {},
   "outputs": [
    {
     "data": {
      "text/plain": [
       "<AxesSubplot:xlabel='quality', ylabel='total sulfur dioxide'>"
      ]
     },
     "execution_count": 12,
     "metadata": {},
     "output_type": "execute_result"
    },
    {
     "data": {
      "image/png": "[encoded data removed]",
      "text/plain": [
       "<Figure size 432x288 with 1 Axes>"
      ]
     },
     "metadata": {
      "needs_background": "light"
     },
     "output_type": "display_data"
    }
   ],
   "source": [
    "#total sulfur dioxide\n",
    "sns.boxplot('quality','total sulfur dioxide',data=data)"
   ]
  },
  {
   "cell_type": "markdown",
   "id": "knowing-secondary",
   "metadata": {},
   "source": [
    "同上。"
   ]
  },
  {
   "cell_type": "code",
   "execution_count": 13,
   "id": "otherwise-print",
   "metadata": {},
   "outputs": [
    {
     "data": {
      "text/plain": [
       "<AxesSubplot:xlabel='quality', ylabel='density'>"
      ]
     },
     "execution_count": 13,
     "metadata": {},
     "output_type": "execute_result"
    },
    {
     "data": {
      "image/png": "[encoded data removed]",
      "text/plain": [
       "<Figure size 432x288 with 1 Axes>"
      ]
     },
     "metadata": {
      "needs_background": "light"
     },
     "output_type": "display_data"
    }
   ],
   "source": [
    "#density\n",
    "sns.boxplot('quality','density',data=data)"
   ]
  },
  {
   "cell_type": "markdown",
   "id": "modular-rwanda",
   "metadata": {},
   "source": [
    "品质5出现较大偏差，整体其实是一个递减的结构，但异常值较多的5品质也许影响了整体。"
   ]
  },
  {
   "cell_type": "code",
   "execution_count": 14,
   "id": "adolescent-federation",
   "metadata": {},
   "outputs": [
    {
     "data": {
      "text/plain": [
       "<AxesSubplot:xlabel='quality', ylabel='pH'>"
      ]
     },
     "execution_count": 14,
     "metadata": {},
     "output_type": "execute_result"
    },
    {
     "data": {
      "image/png": "[encoded data removed]",
      "text/plain": [
       "<Figure size 432x288 with 1 Axes>"
      ]
     },
     "metadata": {
      "needs_background": "light"
     },
     "output_type": "display_data"
    }
   ],
   "source": [
    "#pH\n",
    "sns.boxplot('quality','pH',data=data)"
   ]
  },
  {
   "cell_type": "markdown",
   "id": "agricultural-philadelphia",
   "metadata": {},
   "source": [
    "同上，不过这次异常值都是6品质。"
   ]
  },
  {
   "cell_type": "code",
   "execution_count": 15,
   "id": "competent-implement",
   "metadata": {},
   "outputs": [
    {
     "data": {
      "text/plain": [
       "<AxesSubplot:xlabel='quality', ylabel='sulphates'>"
      ]
     },
     "execution_count": 15,
     "metadata": {},
     "output_type": "execute_result"
    },
    {
     "data": {
      "image/png": "[encoded data removed]",
      "text/plain": [
       "<Figure size 432x288 with 1 Axes>"
      ]
     },
     "metadata": {
      "needs_background": "light"
     },
     "output_type": "display_data"
    }
   ],
   "source": [
    "#sulphates\n",
    "sns.boxplot('quality','sulphates',data=data)"
   ]
  },
  {
   "cell_type": "markdown",
   "id": "hybrid-wagon",
   "metadata": {},
   "source": [
    "较多的异常值出现在5，箱体也偏狭窄，整体是一个递增结构。"
   ]
  },
  {
   "cell_type": "code",
   "execution_count": 16,
   "id": "ecological-mission",
   "metadata": {},
   "outputs": [
    {
     "data": {
      "text/plain": [
       "<AxesSubplot:xlabel='quality', ylabel='alcohol'>"
      ]
     },
     "execution_count": 16,
     "metadata": {},
     "output_type": "execute_result"
    },
    {
     "data": {
      "image/png": "[encoded data removed]",
      "text/plain": [
       "<Figure size 432x288 with 1 Axes>"
      ]
     },
     "metadata": {
      "needs_background": "light"
     },
     "output_type": "display_data"
    }
   ],
   "source": [
    "#alcohol\n",
    "sns.boxplot('quality','alcohol',data=data)"
   ]
  },
  {
   "cell_type": "markdown",
   "id": "taken-pittsburgh",
   "metadata": {},
   "source": [
    "品质5的异常值太多，整体是递增趋势。"
   ]
  },
  {
   "cell_type": "markdown",
   "id": "musical-wrapping",
   "metadata": {},
   "source": [
    "从上面初步的分析结果来看，品质5的异常情况较多，大部分数据的分布是比较理想的（正态、递增以及递减型）。因此我们要着重关心品质5以及标准化的选择。\n",
    "品质5与6的分类可能比较困难，因此如果不做一些处理的话分类结果可能会很不理想。接下来我们进行指标的标准化，利用的是`StandardScaler`这个方法。"
   ]
  },
  {
   "cell_type": "code",
   "execution_count": 17,
   "id": "danish-michael",
   "metadata": {},
   "outputs": [],
   "source": [
    "x=data.iloc[:,:11]\n",
    "y=data['quality']\n",
    "from sklearn.preprocessing import StandardScaler\n",
    "sc = StandardScaler()\n",
    "x = sc.fit_transform(x)"
   ]
  },
  {
   "cell_type": "markdown",
   "id": "casual-ranking",
   "metadata": {},
   "source": [
    "我们可以查看一下标准化后的x的值："
   ]
  },
  {
   "cell_type": "code",
   "execution_count": 18,
   "id": "infinite-northern",
   "metadata": {},
   "outputs": [
    {
     "name": "stdout",
     "output_type": "stream",
     "text": [
      "[[-0.52835961  0.96187667 -1.39147228 ...  1.28864292 -0.57920652\n",
      "  -0.96024611]\n",
      " [-0.29854743  1.96744245 -1.39147228 ... -0.7199333   0.1289504\n",
      "  -0.58477711]\n",
      " [-0.29854743  1.29706527 -1.18607043 ... -0.33117661 -0.04808883\n",
      "  -0.58477711]\n",
      " ...\n",
      " [-1.1603431  -0.09955388 -0.72391627 ...  0.70550789  0.54204194\n",
      "   0.54162988]\n",
      " [-1.39015528  0.65462046 -0.77526673 ...  1.6773996   0.30598963\n",
      "  -0.20930812]\n",
      " [-1.33270223 -1.21684919  1.02199944 ...  0.51112954  0.01092425\n",
      "   0.54162988]]\n"
     ]
    }
   ],
   "source": [
    "print(x)"
   ]
  },
  {
   "cell_type": "markdown",
   "id": "charged-karaoke",
   "metadata": {},
   "source": [
    "接下来我们可以尝试进行SVM分类："
   ]
  },
  {
   "cell_type": "code",
   "execution_count": 19,
   "id": "b90204f0",
   "metadata": {},
   "outputs": [
    {
     "name": "stdout",
     "output_type": "stream",
     "text": [
      "0.6722268557130943\n"
     ]
    }
   ],
   "source": [
    "from sklearn.svm import SVC\n",
    "from sklearn.model_selection import train_test_split\n",
    "x_train, x_test, y_train, y_test = train_test_split(x, y, test_size = 0.25)\n",
    "svc = SVC()\n",
    "svc.fit(x_train, y_train)\n",
    "print (svc.score(x_train, y_train))"
   ]
  },
  {
   "cell_type": "markdown",
   "id": "78198393",
   "metadata": {},
   "source": [
    "可以看到分类的准确性只有67%左右，效果并不理想。不妨引入主成分分析法降低维度："
   ]
  },
  {
   "cell_type": "code",
   "execution_count": 20,
   "id": "silent-singles",
   "metadata": {},
   "outputs": [
    {
     "name": "stdout",
     "output_type": "stream",
     "text": [
      "[[-1.61952988  0.45095009 -1.77445415 ... -0.91392069 -0.16104319\n",
      "  -0.28225828]\n",
      " [-0.79916993  1.85655306 -0.91169017 ...  0.92971392 -1.00982858\n",
      "   0.76258697]\n",
      " [-0.74847909  0.88203886 -1.17139423 ...  0.40147313 -0.53955348\n",
      "   0.59794606]\n",
      " ...\n",
      " [-1.45612897  0.31174559  1.12423941 ... -0.50640956 -0.23108221\n",
      "   0.07938219]\n",
      " [-2.27051793  0.97979111  0.62796456 ... -0.86040762 -0.32148695\n",
      "  -0.46887589]\n",
      " [-0.42697475 -0.53669021  1.6289552  ... -0.49615364  1.18913227\n",
      "   0.04217568]]\n"
     ]
    }
   ],
   "source": [
    "from sklearn.decomposition import PCA\n",
    "pca_new = PCA(n_components=8)\n",
    "x_new = pca_new.fit_transform(x)\n",
    "print(x_new)"
   ]
  },
  {
   "cell_type": "markdown",
   "id": "built-consultancy",
   "metadata": {},
   "source": [
    "接下来进行SVM的分类。采用`sklearn`库中的`SVC`方法,进行拟合与分析："
   ]
  },
  {
   "cell_type": "code",
   "execution_count": 21,
   "id": "genetic-slovenia",
   "metadata": {},
   "outputs": [
    {
     "name": "stdout",
     "output_type": "stream",
     "text": [
      "0.6597164303586321\n"
     ]
    }
   ],
   "source": [
    "from sklearn.svm import SVC\n",
    "from sklearn.model_selection import train_test_split\n",
    "x_train, x_test, y_train, y_test = train_test_split(x_new, y, test_size = 0.25)\n",
    "svc = SVC()\n",
    "svc.fit(x_train, y_train)\n",
    "print (svc.score(x_train, y_train))"
   ]
  },
  {
   "cell_type": "markdown",
   "id": "willing-lying",
   "metadata": {},
   "source": [
    "拟合的结果只有68%左右的准确度，还是不行。不妨换个思路，合并一些结果的指标，以换取更高的拟合度。不妨设品质小于3的设置为低品质（标号为1），品质为4-7的设为中等品质（标号为2），品质大于8的设置为高品质（标号3）。"
   ]
  },
  {
   "cell_type": "code",
   "execution_count": 22,
   "id": "medical-persian",
   "metadata": {},
   "outputs": [],
   "source": [
    "#new angle:split\n",
    "reviews = []\n",
    "for i in data['quality']:\n",
    "    if i >= 1 and i <= 3:\n",
    "        reviews.append('1')\n",
    "    elif i >= 4 and i <= 7:\n",
    "        reviews.append('2')\n",
    "    elif i >= 8 and i <= 10:\n",
    "        reviews.append('3')\n",
    "data['Reviews'] = reviews"
   ]
  },
  {
   "cell_type": "markdown",
   "id": "fossil-ribbon",
   "metadata": {},
   "source": [
    "接下来就是数据的重新导入以及主成分分析："
   ]
  },
  {
   "cell_type": "code",
   "execution_count": 23,
   "id": "another-dodge",
   "metadata": {},
   "outputs": [
    {
     "data": {
      "image/png": "[encoded data removed]",
      "text/plain": [
       "<Figure size 720x720 with 1 Axes>"
      ]
     },
     "metadata": {
      "needs_background": "light"
     },
     "output_type": "display_data"
    }
   ],
   "source": [
    "x = data.iloc[:,:11]\n",
    "y = data['Reviews']\n",
    "from sklearn.preprocessing import StandardScaler\n",
    "sc = StandardScaler()\n",
    "x = sc.fit_transform(x)\n",
    "from sklearn.decomposition import PCA\n",
    "pca = PCA()\n",
    "x_pca = pca.fit_transform(x)\n",
    "\n",
    "#plot the graph to find the principal components\n",
    "plt.figure(figsize=(10,10))\n",
    "plt.plot(np.cumsum(pca.explained_variance_ratio_), 'ro-')\n",
    "plt.grid()"
   ]
  },
  {
   "cell_type": "markdown",
   "id": "active-standing",
   "metadata": {},
   "source": [
    "这个时候，可以选择6维进行分析:"
   ]
  },
  {
   "cell_type": "code",
   "execution_count": 24,
   "id": "neither-finnish",
   "metadata": {},
   "outputs": [
    {
     "name": "stdout",
     "output_type": "stream",
     "text": [
      "0.9824854045037531\n"
     ]
    }
   ],
   "source": [
    "from sklearn.model_selection import train_test_split\n",
    "pca_new = PCA(n_components=6)\n",
    "x_new = pca_new.fit_transform(x)\n",
    "x_train, x_test, y_train, y_test = train_test_split(x_new, y, test_size = 0.25)\n",
    "lin_svc = SVC()\n",
    "lin_svc.fit(x_train, y_train)\n",
    "print(lin_svc.score(x_train,y_train))"
   ]
  },
  {
   "cell_type": "markdown",
   "id": "b140cd0d",
   "metadata": {},
   "source": [
    "可以看出，拟合度98%还是一个比较理想的结果。"
   ]
  }
 ],
 "metadata": {
  "kernelspec": {
   "display_name": "Python 3",
   "language": "python",
   "name": "python3"
  },
  "language_info": {
   "codemirror_mode": {
    "name": "ipython",
    "version": 3
   },
   "file_extension": ".py",
   "mimetype": "text/x-python",
   "name": "python",
   "nbconvert_exporter": "python",
   "pygments_lexer": "ipython3",
   "version": "3.8.6"
  }
 },
 "nbformat": 4,
 "nbformat_minor": 5
}
